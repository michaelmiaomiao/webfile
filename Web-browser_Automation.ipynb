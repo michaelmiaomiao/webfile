{
 "cells": [
  {
   "cell_type": "code",
   "execution_count": 6,
   "metadata": {},
   "outputs": [
    {
     "data": {
      "text/plain": [
       "'/Users/MichaelMiao/Documents/career/Jupyter_files'"
      ]
     },
     "execution_count": 6,
     "metadata": {},
     "output_type": "execute_result"
    }
   ],
   "source": [
    "import os\n",
    "os.getcwd()\n",
    "#os.chdir()\n",
    "\n",
    "from IPython.core.interactiveshell import InteractiveShell\n",
    "InteractiveShell.ast_node_interactivity = \"all\"\n"
   ]
  },
  {
   "cell_type": "code",
   "execution_count": 7,
   "metadata": {},
   "outputs": [
    {
     "name": "stdout",
     "output_type": "stream",
     "text": [
      "Enter First Name for Search:\n",
      "Mark \n",
      "\n",
      " First Name Collected, then Please Enter the Last Name: \n",
      "White\n",
      "\n",
      " Please Enter the Age if if known, heat 'Enter' to skip: \n",
      "\n",
      "\n",
      " Enter the ID if it known, heat 'Enter' if not sure: \n",
      "\n",
      "\n",
      "\n",
      " Is this correct information you would like to search?\n",
      "\n",
      "            < Mark  White   >          \n",
      "\n",
      "Please enter yes/no: \n",
      "\n",
      "yes\n",
      "Start searching for the information in database, please wait ...\n",
      "\n",
      " Data Scraping Successful, please run next cell.\n"
     ]
    }
   ],
   "source": [
    "    \n",
    "#!pip install selenium\n",
    "import time\n",
    "import csv\n",
    "import datetime\n",
    "import argparse\n",
    "import os\n",
    "import numpy\n",
    "#!pip install selenium\n",
    "from selenium import webdriver\n",
    "import pandas as pd;\n",
    "output_final_final=pd.DataFrame()\n",
    "# modules neccesary for web-automation.\n",
    "options = webdriver.ChromeOptions()\n",
    "options.add_argument('--ignore-certificate-errors')\n",
    "options.add_argument(\"--test-type\")\n",
    "## path where you store your chromedriver \n",
    "\n",
    "driver = webdriver.Chrome(\"/Users/MichaelMiao/Documents/career/Jupyter_files/chromedriver\")  # Optional argument, if not specified will search path.\n",
    "## website you would like to complte auto scrape\n",
    "## Link to download the webdriver -- chrome : https://chromedriver.storage.googleapis.com/index.html?path=75.0.3770.90/\n",
    "## You may modify the webdriver or omit it depends on the system  and (or) the browser.\n",
    "driver.get('https://www.bop.gov/inmateloc/')\n",
    "driver.find_element_by_xpath('//*[@id=\"ui-id-1\"]/span').click()\n",
    "## text entering on wesbite for searching\n",
    "text_area_first = driver.find_element_by_id('inmNameFirst');\n",
    "print('Enter First Name for Search:')\n",
    "first_name = input()\n",
    "text_area_first.send_keys(first_name)\n",
    "print('\\n First Name Collected, then Please Enter the Last Name: ')\n",
    "last_name = input()\n",
    "text_area_last=driver.find_element_by_id('inmNameLast')\n",
    "text_area_last.send_keys(last_name)\n",
    "print('\\n Please Enter the Age if if known, heat \\'Enter\\' to skip: ')\n",
    "Age = input()\n",
    "text_area_age=driver.find_element_by_id('inmAge')\n",
    "text_area_age.send_keys(Age)\n",
    "print('\\n Enter the ID if it known, heat \\'Enter\\' if not sure: ')\n",
    "ID = input()\n",
    "text_area_mid=driver.find_element_by_id('inmNameMid')\n",
    "text_area_mid.send_keys(ID)\n",
    "print ('\\n\\n Is this correct information you would like to search?')\n",
    "print ('\\n            <',first_name,last_name,Age,ID,'>          \\n')\n",
    "print ('Please enter yes/no: \\n')\n",
    "start_check = input()\n",
    "if start_check == 'yes':\n",
    "    time.sleep(2)\n",
    "    driver.find_element_by_xpath('//*[@id=\"searchNameButton\"]').click()\n",
    "    print('Start searching for the information in database, please wait ...')\n",
    "    item = driver.find_element_by_xpath('//*[@id=\"inmateTable\"]')\n",
    "    driver.execute_script(\"arguments[0].click();\", item)\n",
    "    time.sleep(3)\n",
    "    for table in driver.find_elements_by_xpath('//*[@id=\"inmateTable\"]/tbody'):\n",
    "        data = [item.text for item in table.find_elements_by_xpath(\".//*[self::td or self::th]\")]\n",
    "    time.sleep(2)\n",
    "    driver.quit() # automatically close the website. \n",
    "    if len(data)<8:\n",
    "        print (\"\\n No information found, do you want to try one more time?\")        \n",
    "        print('\\n Pleaese enter Y/N for your answer: ')\n",
    "        re_run = input()\n",
    "        print('Re-run the cell manually for this time: ')\n",
    "    else:\n",
    "        print(\"\\n Data Scraping Successful, please run next cell.\")\n",
    "else:\n",
    "    driver.refresh()\n",
    "    print('Enter again: \\n')\n",
    "    print('First Name:')\n",
    "    first_name = input()\n",
    "    print('\\n Last Name: ')\n",
    "    last_name = input()\n",
    "    driver.find_element_by_xpath('//*[@id=\"searchNameButton\"]').click()\n",
    "    print('Start searching for the information in database, please wait ...')\n",
    "    item = driver.find_element_by_xpath('//*[@id=\"inmateTable\"]')\n",
    "    driver.execute_script(\"arguments[0].click();\", item)\n",
    "    for table in driver.find_elements_by_xpath('//*[@id=\"inmateTable\"]/tbody'):\n",
    "        data = [item.text for item in table.find_elements_by_xpath(\".//*[self::td or self::th]\")]\n",
    "    time.sleep(2)\n",
    "    driver.quit()\n",
    "    if len(data)<8:\n",
    "        print (\"\\n No information found, do you want to try one more time?\")        \n",
    "        print('\\n Pleaese enter Y/N for your answer: ')\n",
    "        re_run = input()\n",
    "        print('Re-run the cell manually for this time: ')\n",
    "    else:\n",
    "        print(\"\\n Data Scraping Successful, please run next cell.\")\n",
    "    \n",
    "    \n",
    "    "
   ]
  },
  {
   "cell_type": "code",
   "execution_count": 9,
   "metadata": {},
   "outputs": [
    {
     "name": "stdout",
     "output_type": "stream",
     "text": [
      "                Name Register Number Age   Race Gender Release Date  \\\n",
      "0         MARK WHITE       01445-049  61  Black   Male   11/17/2000   \n",
      "1         MARK WHITE       02073-081  63  White   Male      UNKNOWN   \n",
      "2  MARK ALBERT WHITE       02299-028  53  White   Male   08/07/1987   \n",
      "\n",
      "               Status  \n",
      "0            RELEASED  \n",
      "1  NOT IN BOP CUSTODY  \n",
      "2            RELEASED  \n",
      "\n",
      "Data Cleansing Successful.\n",
      "Cleaned Data Saved.\n"
     ]
    }
   ],
   "source": [
    "n=7\n",
    "final = [data[i * n:(i + 1) * n] for i in range((len(data) + n - 1) // n )]  \n",
    "output_final=pd.DataFrame(final)\n",
    "output_final.columns=['Name','Register Number','Age','Race','Gender','Release Date','Status']\n",
    "print(output_final.head(3))\n",
    "time.sleep(2)\n",
    "print('\\nData Cleansing Successful.')\n",
    "## save to the path you would choose.\n",
    "export1_csv =output_final.to_csv ('extracted_data.csv', index = None, header=True)\n",
    "print(\"Cleaned Data Saved.\")"
   ]
  },
  {
   "cell_type": "code",
   "execution_count": 10,
   "metadata": {},
   "outputs": [
    {
     "name": "stdout",
     "output_type": "stream",
     "text": [
      "Open the data file to have a look or not? yes/no \n",
      "yes\n",
      "                 Name Register Number  Age   Race Gender Release Date  \\\n",
      "0          MARK WHITE       01445-049   61  Black   Male   11/17/2000   \n",
      "1          MARK WHITE       02073-081   63  White   Male      UNKNOWN   \n",
      "2   MARK ALBERT WHITE       02299-028   53  White   Male   08/07/1987   \n",
      "3        MARK A WHITE       05671-028   45  Black   Male   04/21/2033   \n",
      "4          MARK WHITE       06962-078   57  White   Male   11/15/1999   \n",
      "5          MARK WHITE       07142-027   55  Black   Male   06/10/2004   \n",
      "6        MARK B WHITE       07703-031   64  Black   Male   02/23/2007   \n",
      "7  MARK ANTHONY WHITE       10779-062   35  Black   Male   03/10/2016   \n",
      "8  MARK RUSSELL WHITE       11660-280   61  White   Male   04/01/2019   \n",
      "9        MARK V WHITE       12501-074   56  White   Male   10/20/1993   \n",
      "\n",
      "               Status  \n",
      "0            RELEASED  \n",
      "1  NOT IN BOP CUSTODY  \n",
      "2            RELEASED  \n",
      "3      Greenville FCI  \n",
      "4            RELEASED  \n",
      "5            RELEASED  \n",
      "6            RELEASED  \n",
      "7            RELEASED  \n",
      "8            RELEASED  \n",
      "9            RELEASED  \n"
     ]
    }
   ],
   "source": [
    "print(\"Open the data file to have a look or not? yes/no \")\n",
    "open_file = input()\n",
    "if open_file == 'yes':\n",
    "    final_data=pd.read_csv('extracted_data.csv') \n",
    "    final_data=pd.DataFrame(final_data)\n",
    "    print(final_data.head(10))\n",
    "elif  open_file == 'no':\n",
    "    print('\\n Thanks, exited.')\n",
    "else: \n",
    "    print('Input: \\'',open_file, '\\' not recognized, exited.')\n",
    "    sys.exit(0)"
   ]
  },
  {
   "cell_type": "code",
   "execution_count": null,
   "metadata": {
    "collapsed": true
   },
   "outputs": [],
   "source": []
  },
  {
   "cell_type": "code",
   "execution_count": null,
   "metadata": {
    "collapsed": true
   },
   "outputs": [],
   "source": []
  }
 ],
 "metadata": {
  "kernelspec": {
   "display_name": "Python 3",
   "language": "python",
   "name": "python3"
  },
  "language_info": {
   "codemirror_mode": {
    "name": "ipython",
    "version": 3
   },
   "file_extension": ".py",
   "mimetype": "text/x-python",
   "name": "python",
   "nbconvert_exporter": "python",
   "pygments_lexer": "ipython3",
   "version": "3.6.8"
  }
 },
 "nbformat": 4,
 "nbformat_minor": 2
}
